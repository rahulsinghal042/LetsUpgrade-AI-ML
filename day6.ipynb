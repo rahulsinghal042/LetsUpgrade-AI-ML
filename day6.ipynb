{
  "nbformat": 4,
  "nbformat_minor": 0,
  "metadata": {
    "colab": {
      "name": "day6.ipynb",
      "provenance": []
    },
    "kernelspec": {
      "name": "python3",
      "display_name": "Python 3"
    }
  },
  "cells": [
    {
      "cell_type": "code",
      "metadata": {
        "id": "ZiF64JJJABPF",
        "colab_type": "code",
        "colab": {
          "base_uri": "https://localhost:8080/",
          "height": 52
        },
        "outputId": "ba60ecea-73c3-4735-ac57-5d24de295409"
      },
      "source": [
        "email=\"rahulsinghal042@gmail.com\"\n",
        "print(\"email\",email)\n",
        "domain=email.split('@')[1].rstrip(\".com\")\n",
        "print(domain)"
      ],
      "execution_count": 6,
      "outputs": [
        {
          "output_type": "stream",
          "text": [
            "email rahulsinghal042@gmail.com\n",
            "gmail\n"
          ],
          "name": "stdout"
        }
      ]
    },
    {
      "cell_type": "code",
      "metadata": {
        "id": "R8ZJD_FcFT-J",
        "colab_type": "code",
        "colab": {
          "base_uri": "https://localhost:8080/",
          "height": 52
        },
        "outputId": "0fb9ae2c-410e-47e7-e222-d91f8f42bdc1"
      },
      "source": [
        "str=[x for x in input(\"enter data to sort\").split(',')]\n",
        "str.sort()\n",
        "print (\"Sorted data are \",','.join(str))"
      ],
      "execution_count": 20,
      "outputs": [
        {
          "output_type": "stream",
          "text": [
            "enter data to sortram,anita,rajeev,madan,radhika,rahul,vinay,jaisingh\n",
            "Sorted data are  anita,jaisingh,madan,radhika,rahul,rajeev,ram,vinay\n"
          ],
          "name": "stdout"
        }
      ]
    },
    {
      "cell_type": "code",
      "metadata": {
        "id": "rOrbshquHCYP",
        "colab_type": "code",
        "colab": {
          "base_uri": "https://localhost:8080/",
          "height": 52
        },
        "outputId": "fdcef7c3-ab96-4bfe-e8d5-7d8a4c85ac83"
      },
      "source": [
        "thisset = {\"apple\", \"banana\", \"cherry\"}  #set creation\n",
        "thisset.remove(\"banana\")     #remove key\n",
        "print(len(thisset))          #length of set after removing\n",
        "print(thisset)"
      ],
      "execution_count": 25,
      "outputs": [
        {
          "output_type": "stream",
          "text": [
            "2\n",
            "{'cherry', 'apple'}\n"
          ],
          "name": "stdout"
        }
      ]
    },
    {
      "cell_type": "code",
      "metadata": {
        "id": "uiZPIGlpHNIS",
        "colab_type": "code",
        "colab": {
          "base_uri": "https://localhost:8080/",
          "height": 34
        },
        "outputId": "17b5787e-1512-4251-d190-185ba0b4ba8f"
      },
      "source": [
        "def missno(a):\n",
        "    n=len(a)\n",
        "    total=(n+1)*(n+2)/2\n",
        "    sum_of=sum (a)\n",
        "    return total-sum_of\n",
        "\n",
        "a= [1,2,3,4,5,7,8]\n",
        "b=missno(a)\n",
        "print(b)\n"
      ],
      "execution_count": 28,
      "outputs": [
        {
          "output_type": "stream",
          "text": [
            "6.0\n"
          ],
          "name": "stdout"
        }
      ]
    },
    {
      "cell_type": "code",
      "metadata": {
        "id": "4L37PSQnLury",
        "colab_type": "code",
        "colab": {
          "base_uri": "https://localhost:8080/",
          "height": 34
        },
        "outputId": "c8eefbde-cc8b-457b-adab-0f2b18422228"
      },
      "source": [
        "def my_function(x):\n",
        "  return list(dict.fromkeys(x))\n",
        "\n",
        "mylist = my_function([\"a\", \"b\", \"a\", \"c\", \"c\"])\n",
        "\n",
        "print(mylist)"
      ],
      "execution_count": 29,
      "outputs": [
        {
          "output_type": "stream",
          "text": [
            "['a', 'b', 'c']\n"
          ],
          "name": "stdout"
        }
      ]
    }
  ]
}