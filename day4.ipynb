{
  "nbformat": 4,
  "nbformat_minor": 0,
  "metadata": {
    "colab": {
      "name": "day4.ipynb",
      "provenance": [],
      "collapsed_sections": []
    },
    "kernelspec": {
      "name": "python3",
      "display_name": "Python 3"
    }
  },
  "cells": [
    {
      "cell_type": "code",
      "metadata": {
        "id": "6PGDFrjwIVs8",
        "colab_type": "code",
        "colab": {
          "base_uri": "https://localhost:8080/",
          "height": 87
        },
        "outputId": "3090d0dd-5c1b-4495-ed95-1eb725f36d28"
      },
      "source": [
        "a=5+2j                  # modulo and floor divison is not possible\n",
        "b=5+5j\n",
        "print(a+b)\n",
        "print(a-b)\n",
        "print(a/b)\n",
        "print(a*b)\n",
        "print(a%b)\n",
        "print(a//b)"
      ],
      "execution_count": 8,
      "outputs": [
        {
          "output_type": "stream",
          "text": [
            "(10+7j)\n",
            "-3j\n",
            "(0.7-0.3j)\n",
            "(15+35j)\n"
          ],
          "name": "stdout"
        }
      ]
    },
    {
      "cell_type": "code",
      "metadata": {
        "id": "9tPqXl1DJF9Q",
        "colab_type": "code",
        "colab": {
          "base_uri": "https://localhost:8080/",
          "height": 34
        },
        "outputId": "a4d5403f-4ec2-4768-f51c-da268530e2d3"
      },
      "source": [
        "a=10         #question no3\n",
        "b=5\n",
        "if a-b<25 :\n",
        "  print(a*b,\"Multiplication of two no\")\n",
        "else :\n",
        "  print(a/b,\"divison of two no\")\n"
      ],
      "execution_count": 13,
      "outputs": [
        {
          "output_type": "stream",
          "text": [
            "50 Multiplication of two no\n"
          ],
          "name": "stdout"
        }
      ]
    },
    {
      "cell_type": "code",
      "metadata": {
        "id": "DOw2dxcdM5ya",
        "colab_type": "code",
        "colab": {
          "base_uri": "https://localhost:8080/",
          "height": 212
        },
        "outputId": "2b6b1015-98f6-45e1-9aad-e32b2c813dcf"
      },
      "source": [
        "l = [1,2,3,4,5,10,20,30,9,26,32]    #question4\n",
        "for i in l :\n",
        "   if i%2==0:\n",
        "      print(i*i-2,\" divisble by 2 -2\")\n",
        "   else :\n",
        "      print(i)"
      ],
      "execution_count": 26,
      "outputs": [
        {
          "output_type": "stream",
          "text": [
            "1\n",
            "2  divisble by 2 -2\n",
            "3\n",
            "14  divisble by 2 -2\n",
            "5\n",
            "98  divisble by 2 -2\n",
            "398  divisble by 2 -2\n",
            "898  divisble by 2 -2\n",
            "9\n",
            "674  divisble by 2 -2\n",
            "1022  divisble by 2 -2\n"
          ],
          "name": "stdout"
        }
      ]
    },
    {
      "cell_type": "code",
      "metadata": {
        "id": "lpdCJB6APK1L",
        "colab_type": "code",
        "colab": {
          "base_uri": "https://localhost:8080/",
          "height": 87
        },
        "outputId": "e8dc5d28-dd36-4854-a484-8b4d2a47cfa0"
      },
      "source": [
        "l = [1,2,3,4,5,10,20,30,9,26,32]      #question5\n",
        "for i in l:\n",
        "    if (i/2)>7:\n",
        "      print(i)"
      ],
      "execution_count": 28,
      "outputs": [
        {
          "output_type": "stream",
          "text": [
            "20\n",
            "30\n",
            "26\n",
            "32\n"
          ],
          "name": "stdout"
        }
      ]
    },
    {
      "cell_type": "code",
      "metadata": {
        "id": "YCJZmPlyQFlS",
        "colab_type": "code",
        "colab": {
          "base_uri": "https://localhost:8080/",
          "height": 265
        },
        "outputId": "3b64bf3d-5085-4489-8318-1f380ccbe676"
      },
      "source": [
        "#The range() function returns a sequence of numbers, starting from 0 by default, and increments by 1 (by default), and stops before a specified number.\n",
        "\n",
        "x = range(10, 50, 3)       #range between 10 to 50 with increment 3\n",
        "for n in x:\n",
        "  print(n)"
      ],
      "execution_count": 29,
      "outputs": [
        {
          "output_type": "stream",
          "text": [
            "10\n",
            "13\n",
            "16\n",
            "19\n",
            "22\n",
            "25\n",
            "28\n",
            "31\n",
            "34\n",
            "37\n",
            "40\n",
            "43\n",
            "46\n",
            "49\n"
          ],
          "name": "stdout"
        }
      ]
    },
    {
      "cell_type": "markdown",
      "metadata": {
        "id": "c1IdoxTRP16A",
        "colab_type": "text"
      },
      "source": [
        "<!-- The range() function returns a sequence of numbers, starting from 0 by default, and increments by 1 (by default), and stops before a specified number. -->"
      ]
    }
  ]
}